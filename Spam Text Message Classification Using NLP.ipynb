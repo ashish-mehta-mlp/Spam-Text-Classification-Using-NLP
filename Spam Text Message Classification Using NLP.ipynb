{
 "cells": [
  {
   "cell_type": "markdown",
   "metadata": {},
   "source": [
    "- We can broadly classify NLP into 2 types:\n",
    "    1. Natural Language Understanding (Text Classificatio)\n",
    "    2. Natural Language Generation (Text Generation)"
   ]
  },
  {
   "cell_type": "code",
   "execution_count": 1,
   "metadata": {},
   "outputs": [],
   "source": [
    "import pandas as pd\n",
    "import numpy as np\n",
    "import matplotlib.pyplot as plt"
   ]
  },
  {
   "cell_type": "code",
   "execution_count": 2,
   "metadata": {},
   "outputs": [],
   "source": [
    "data = pd.read_csv(\"C:/Users/Ashish/Desktop/Python Projects/Spam Email Classification/emails.csv\")"
   ]
  },
  {
   "cell_type": "code",
   "execution_count": 3,
   "metadata": {},
   "outputs": [
    {
     "data": {
      "text/html": [
       "<div>\n",
       "<style scoped>\n",
       "    .dataframe tbody tr th:only-of-type {\n",
       "        vertical-align: middle;\n",
       "    }\n",
       "\n",
       "    .dataframe tbody tr th {\n",
       "        vertical-align: top;\n",
       "    }\n",
       "\n",
       "    .dataframe thead th {\n",
       "        text-align: right;\n",
       "    }\n",
       "</style>\n",
       "<table border=\"1\" class=\"dataframe\">\n",
       "  <thead>\n",
       "    <tr style=\"text-align: right;\">\n",
       "      <th></th>\n",
       "      <th>v1</th>\n",
       "      <th>v2</th>\n",
       "    </tr>\n",
       "  </thead>\n",
       "  <tbody>\n",
       "    <tr>\n",
       "      <th>0</th>\n",
       "      <td>spam</td>\n",
       "      <td>.: naturally irresistible your corporate ident...</td>\n",
       "    </tr>\n",
       "    <tr>\n",
       "      <th>1</th>\n",
       "      <td>spam</td>\n",
       "      <td>.: the stock trading gunslinger  fanny is merr...</td>\n",
       "    </tr>\n",
       "    <tr>\n",
       "      <th>2</th>\n",
       "      <td>spam</td>\n",
       "      <td>.: unbelievable new homes made easy  im wantin...</td>\n",
       "    </tr>\n",
       "    <tr>\n",
       "      <th>3</th>\n",
       "      <td>spam</td>\n",
       "      <td>.: 4 color printing special  request additiona...</td>\n",
       "    </tr>\n",
       "    <tr>\n",
       "      <th>4</th>\n",
       "      <td>spam</td>\n",
       "      <td>.: do not have money , get software cds from h...</td>\n",
       "    </tr>\n",
       "  </tbody>\n",
       "</table>\n",
       "</div>"
      ],
      "text/plain": [
       "     v1                                                 v2\n",
       "0  spam  .: naturally irresistible your corporate ident...\n",
       "1  spam  .: the stock trading gunslinger  fanny is merr...\n",
       "2  spam  .: unbelievable new homes made easy  im wantin...\n",
       "3  spam  .: 4 color printing special  request additiona...\n",
       "4  spam  .: do not have money , get software cds from h..."
      ]
     },
     "execution_count": 3,
     "metadata": {},
     "output_type": "execute_result"
    }
   ],
   "source": [
    "data.head()"
   ]
  },
  {
   "cell_type": "code",
   "execution_count": 4,
   "metadata": {},
   "outputs": [],
   "source": [
    "data.columns = [\"labels\", \"emails\"]"
   ]
  },
  {
   "cell_type": "code",
   "execution_count": 5,
   "metadata": {},
   "outputs": [
    {
     "data": {
      "text/html": [
       "<div>\n",
       "<style scoped>\n",
       "    .dataframe tbody tr th:only-of-type {\n",
       "        vertical-align: middle;\n",
       "    }\n",
       "\n",
       "    .dataframe tbody tr th {\n",
       "        vertical-align: top;\n",
       "    }\n",
       "\n",
       "    .dataframe thead th {\n",
       "        text-align: right;\n",
       "    }\n",
       "</style>\n",
       "<table border=\"1\" class=\"dataframe\">\n",
       "  <thead>\n",
       "    <tr style=\"text-align: right;\">\n",
       "      <th></th>\n",
       "      <th>labels</th>\n",
       "      <th>emails</th>\n",
       "    </tr>\n",
       "  </thead>\n",
       "  <tbody>\n",
       "    <tr>\n",
       "      <th>0</th>\n",
       "      <td>spam</td>\n",
       "      <td>.: naturally irresistible your corporate ident...</td>\n",
       "    </tr>\n",
       "    <tr>\n",
       "      <th>1</th>\n",
       "      <td>spam</td>\n",
       "      <td>.: the stock trading gunslinger  fanny is merr...</td>\n",
       "    </tr>\n",
       "    <tr>\n",
       "      <th>2</th>\n",
       "      <td>spam</td>\n",
       "      <td>.: unbelievable new homes made easy  im wantin...</td>\n",
       "    </tr>\n",
       "    <tr>\n",
       "      <th>3</th>\n",
       "      <td>spam</td>\n",
       "      <td>.: 4 color printing special  request additiona...</td>\n",
       "    </tr>\n",
       "    <tr>\n",
       "      <th>4</th>\n",
       "      <td>spam</td>\n",
       "      <td>.: do not have money , get software cds from h...</td>\n",
       "    </tr>\n",
       "  </tbody>\n",
       "</table>\n",
       "</div>"
      ],
      "text/plain": [
       "  labels                                             emails\n",
       "0   spam  .: naturally irresistible your corporate ident...\n",
       "1   spam  .: the stock trading gunslinger  fanny is merr...\n",
       "2   spam  .: unbelievable new homes made easy  im wantin...\n",
       "3   spam  .: 4 color printing special  request additiona...\n",
       "4   spam  .: do not have money , get software cds from h..."
      ]
     },
     "execution_count": 5,
     "metadata": {},
     "output_type": "execute_result"
    }
   ],
   "source": [
    "data.head()"
   ]
  },
  {
   "cell_type": "code",
   "execution_count": 8,
   "metadata": {},
   "outputs": [],
   "source": [
    "data[\"character_counts\"] = data[\"emails\"].apply(lambda x: len(x))"
   ]
  },
  {
   "cell_type": "code",
   "execution_count": 9,
   "metadata": {},
   "outputs": [
    {
     "data": {
      "text/html": [
       "<div>\n",
       "<style scoped>\n",
       "    .dataframe tbody tr th:only-of-type {\n",
       "        vertical-align: middle;\n",
       "    }\n",
       "\n",
       "    .dataframe tbody tr th {\n",
       "        vertical-align: top;\n",
       "    }\n",
       "\n",
       "    .dataframe thead th {\n",
       "        text-align: right;\n",
       "    }\n",
       "</style>\n",
       "<table border=\"1\" class=\"dataframe\">\n",
       "  <thead>\n",
       "    <tr style=\"text-align: right;\">\n",
       "      <th></th>\n",
       "      <th>labels</th>\n",
       "      <th>emails</th>\n",
       "      <th>character_counts</th>\n",
       "    </tr>\n",
       "  </thead>\n",
       "  <tbody>\n",
       "    <tr>\n",
       "      <th>0</th>\n",
       "      <td>spam</td>\n",
       "      <td>.: naturally irresistible your corporate ident...</td>\n",
       "      <td>1478</td>\n",
       "    </tr>\n",
       "    <tr>\n",
       "      <th>1</th>\n",
       "      <td>spam</td>\n",
       "      <td>.: the stock trading gunslinger  fanny is merr...</td>\n",
       "      <td>592</td>\n",
       "    </tr>\n",
       "    <tr>\n",
       "      <th>2</th>\n",
       "      <td>spam</td>\n",
       "      <td>.: unbelievable new homes made easy  im wantin...</td>\n",
       "      <td>442</td>\n",
       "    </tr>\n",
       "    <tr>\n",
       "      <th>3</th>\n",
       "      <td>spam</td>\n",
       "      <td>.: 4 color printing special  request additiona...</td>\n",
       "      <td>494</td>\n",
       "    </tr>\n",
       "    <tr>\n",
       "      <th>4</th>\n",
       "      <td>spam</td>\n",
       "      <td>.: do not have money , get software cds from h...</td>\n",
       "      <td>229</td>\n",
       "    </tr>\n",
       "  </tbody>\n",
       "</table>\n",
       "</div>"
      ],
      "text/plain": [
       "  labels                                             emails  character_counts\n",
       "0   spam  .: naturally irresistible your corporate ident...              1478\n",
       "1   spam  .: the stock trading gunslinger  fanny is merr...               592\n",
       "2   spam  .: unbelievable new homes made easy  im wantin...               442\n",
       "3   spam  .: 4 color printing special  request additiona...               494\n",
       "4   spam  .: do not have money , get software cds from h...               229"
      ]
     },
     "execution_count": 9,
     "metadata": {},
     "output_type": "execute_result"
    }
   ],
   "source": [
    "data.head()"
   ]
  },
  {
   "cell_type": "code",
   "execution_count": 10,
   "metadata": {},
   "outputs": [],
   "source": [
    "import string"
   ]
  },
  {
   "cell_type": "code",
   "execution_count": 11,
   "metadata": {},
   "outputs": [],
   "source": [
    "punct = string.punctuation"
   ]
  },
  {
   "cell_type": "code",
   "execution_count": 12,
   "metadata": {},
   "outputs": [],
   "source": [
    "data[\"puncts\"] = data[\"emails\"].apply(lambda x: len([t for t in x if t in punct]))"
   ]
  },
  {
   "cell_type": "code",
   "execution_count": 13,
   "metadata": {},
   "outputs": [
    {
     "data": {
      "text/html": [
       "<div>\n",
       "<style scoped>\n",
       "    .dataframe tbody tr th:only-of-type {\n",
       "        vertical-align: middle;\n",
       "    }\n",
       "\n",
       "    .dataframe tbody tr th {\n",
       "        vertical-align: top;\n",
       "    }\n",
       "\n",
       "    .dataframe thead th {\n",
       "        text-align: right;\n",
       "    }\n",
       "</style>\n",
       "<table border=\"1\" class=\"dataframe\">\n",
       "  <thead>\n",
       "    <tr style=\"text-align: right;\">\n",
       "      <th></th>\n",
       "      <th>labels</th>\n",
       "      <th>emails</th>\n",
       "      <th>character_counts</th>\n",
       "      <th>puncts</th>\n",
       "    </tr>\n",
       "  </thead>\n",
       "  <tbody>\n",
       "    <tr>\n",
       "      <th>0</th>\n",
       "      <td>spam</td>\n",
       "      <td>.: naturally irresistible your corporate ident...</td>\n",
       "      <td>1478</td>\n",
       "      <td>137</td>\n",
       "    </tr>\n",
       "    <tr>\n",
       "      <th>1</th>\n",
       "      <td>spam</td>\n",
       "      <td>.: the stock trading gunslinger  fanny is merr...</td>\n",
       "      <td>592</td>\n",
       "      <td>2</td>\n",
       "    </tr>\n",
       "    <tr>\n",
       "      <th>2</th>\n",
       "      <td>spam</td>\n",
       "      <td>.: unbelievable new homes made easy  im wantin...</td>\n",
       "      <td>442</td>\n",
       "      <td>9</td>\n",
       "    </tr>\n",
       "    <tr>\n",
       "      <th>3</th>\n",
       "      <td>spam</td>\n",
       "      <td>.: 4 color printing special  request additiona...</td>\n",
       "      <td>494</td>\n",
       "      <td>26</td>\n",
       "    </tr>\n",
       "    <tr>\n",
       "      <th>4</th>\n",
       "      <td>spam</td>\n",
       "      <td>.: do not have money , get software cds from h...</td>\n",
       "      <td>229</td>\n",
       "      <td>14</td>\n",
       "    </tr>\n",
       "  </tbody>\n",
       "</table>\n",
       "</div>"
      ],
      "text/plain": [
       "  labels                                             emails  character_counts  \\\n",
       "0   spam  .: naturally irresistible your corporate ident...              1478   \n",
       "1   spam  .: the stock trading gunslinger  fanny is merr...               592   \n",
       "2   spam  .: unbelievable new homes made easy  im wantin...               442   \n",
       "3   spam  .: 4 color printing special  request additiona...               494   \n",
       "4   spam  .: do not have money , get software cds from h...               229   \n",
       "\n",
       "   puncts  \n",
       "0     137  \n",
       "1       2  \n",
       "2       9  \n",
       "3      26  \n",
       "4      14  "
      ]
     },
     "execution_count": 13,
     "metadata": {},
     "output_type": "execute_result"
    }
   ],
   "source": [
    "data.head()"
   ]
  },
  {
   "cell_type": "code",
   "execution_count": null,
   "metadata": {},
   "outputs": [],
   "source": []
  },
  {
   "cell_type": "code",
   "execution_count": 14,
   "metadata": {},
   "outputs": [
    {
     "data": {
      "text/plain": [
       "labels              0\n",
       "emails              0\n",
       "character_counts    0\n",
       "puncts              0\n",
       "dtype: int64"
      ]
     },
     "execution_count": 14,
     "metadata": {},
     "output_type": "execute_result"
    }
   ],
   "source": [
    "# Check if there are any missing data in the dataset\n",
    "data.isnull().sum()"
   ]
  },
  {
   "cell_type": "markdown",
   "metadata": {},
   "source": [
    "- There are no null values"
   ]
  },
  {
   "cell_type": "code",
   "execution_count": 15,
   "metadata": {},
   "outputs": [
    {
     "data": {
      "text/plain": [
       "(5727, 4)"
      ]
     },
     "execution_count": 15,
     "metadata": {},
     "output_type": "execute_result"
    }
   ],
   "source": [
    "data.shape"
   ]
  },
  {
   "cell_type": "markdown",
   "metadata": {},
   "source": [
    "- There are 5727 emails and 4 columns"
   ]
  },
  {
   "cell_type": "code",
   "execution_count": 16,
   "metadata": {},
   "outputs": [
    {
     "data": {
      "text/plain": [
       "ham     4359\n",
       "spam    1368\n",
       "Name: labels, dtype: int64"
      ]
     },
     "execution_count": 16,
     "metadata": {},
     "output_type": "execute_result"
    }
   ],
   "source": [
    "# Counting the number of ham and spam emails\n",
    "\n",
    "data[\"labels\"].value_counts()"
   ]
  },
  {
   "cell_type": "code",
   "execution_count": null,
   "metadata": {},
   "outputs": [],
   "source": []
  },
  {
   "cell_type": "markdown",
   "metadata": {},
   "source": [
    "- From the data we can see that:\n",
    "    1. There are 4359 ham emails and 1368 spam emails.\n",
    "    2. This is a very unbalanced data. Hence we have to create a dataset with equal number of ham and spam emails\n",
    "    3. This will be a balanced dataset"
   ]
  },
  {
   "cell_type": "markdown",
   "metadata": {},
   "source": [
    "### Creating a balanced data set"
   ]
  },
  {
   "cell_type": "markdown",
   "metadata": {},
   "source": [
    "- The balanced dataset will have 1368 ham emails and 1368 spam emails"
   ]
  },
  {
   "cell_type": "code",
   "execution_count": 17,
   "metadata": {},
   "outputs": [],
   "source": [
    "# getting all the ham messages\n",
    "\n",
    "ham = data[data[\"labels\"] == \"ham\"]"
   ]
  },
  {
   "cell_type": "code",
   "execution_count": 18,
   "metadata": {},
   "outputs": [],
   "source": [
    "# getting all the spam messages\n",
    "\n",
    "spam = data[data[\"labels\"] == \"spam\"]"
   ]
  },
  {
   "cell_type": "code",
   "execution_count": 19,
   "metadata": {},
   "outputs": [
    {
     "data": {
      "text/html": [
       "<div>\n",
       "<style scoped>\n",
       "    .dataframe tbody tr th:only-of-type {\n",
       "        vertical-align: middle;\n",
       "    }\n",
       "\n",
       "    .dataframe tbody tr th {\n",
       "        vertical-align: top;\n",
       "    }\n",
       "\n",
       "    .dataframe thead th {\n",
       "        text-align: right;\n",
       "    }\n",
       "</style>\n",
       "<table border=\"1\" class=\"dataframe\">\n",
       "  <thead>\n",
       "    <tr style=\"text-align: right;\">\n",
       "      <th></th>\n",
       "      <th>labels</th>\n",
       "      <th>emails</th>\n",
       "      <th>character_counts</th>\n",
       "      <th>puncts</th>\n",
       "    </tr>\n",
       "  </thead>\n",
       "  <tbody>\n",
       "    <tr>\n",
       "      <th>1368</th>\n",
       "      <td>ham</td>\n",
       "      <td>.: hello guys ,  i ' m \" bugging you \" for you...</td>\n",
       "      <td>1182</td>\n",
       "      <td>52</td>\n",
       "    </tr>\n",
       "    <tr>\n",
       "      <th>1369</th>\n",
       "      <td>ham</td>\n",
       "      <td>.: sacramento weather station  fyi  - - - - - ...</td>\n",
       "      <td>1985</td>\n",
       "      <td>128</td>\n",
       "    </tr>\n",
       "    <tr>\n",
       "      <th>1370</th>\n",
       "      <td>ham</td>\n",
       "      <td>.: from the enron india newsdesk - jan 18 th n...</td>\n",
       "      <td>7896</td>\n",
       "      <td>256</td>\n",
       "    </tr>\n",
       "    <tr>\n",
       "      <th>1371</th>\n",
       "      <td>ham</td>\n",
       "      <td>.: re : powerisk 2001 - your invitation  angel...</td>\n",
       "      <td>3632</td>\n",
       "      <td>114</td>\n",
       "    </tr>\n",
       "    <tr>\n",
       "      <th>1372</th>\n",
       "      <td>ham</td>\n",
       "      <td>.: re : resco database and customer capture  s...</td>\n",
       "      <td>5493</td>\n",
       "      <td>307</td>\n",
       "    </tr>\n",
       "  </tbody>\n",
       "</table>\n",
       "</div>"
      ],
      "text/plain": [
       "     labels                                             emails  \\\n",
       "1368    ham  .: hello guys ,  i ' m \" bugging you \" for you...   \n",
       "1369    ham  .: sacramento weather station  fyi  - - - - - ...   \n",
       "1370    ham  .: from the enron india newsdesk - jan 18 th n...   \n",
       "1371    ham  .: re : powerisk 2001 - your invitation  angel...   \n",
       "1372    ham  .: re : resco database and customer capture  s...   \n",
       "\n",
       "      character_counts  puncts  \n",
       "1368              1182      52  \n",
       "1369              1985     128  \n",
       "1370              7896     256  \n",
       "1371              3632     114  \n",
       "1372              5493     307  "
      ]
     },
     "execution_count": 19,
     "metadata": {},
     "output_type": "execute_result"
    }
   ],
   "source": [
    "ham.head()"
   ]
  },
  {
   "cell_type": "code",
   "execution_count": 20,
   "metadata": {},
   "outputs": [
    {
     "data": {
      "text/html": [
       "<div>\n",
       "<style scoped>\n",
       "    .dataframe tbody tr th:only-of-type {\n",
       "        vertical-align: middle;\n",
       "    }\n",
       "\n",
       "    .dataframe tbody tr th {\n",
       "        vertical-align: top;\n",
       "    }\n",
       "\n",
       "    .dataframe thead th {\n",
       "        text-align: right;\n",
       "    }\n",
       "</style>\n",
       "<table border=\"1\" class=\"dataframe\">\n",
       "  <thead>\n",
       "    <tr style=\"text-align: right;\">\n",
       "      <th></th>\n",
       "      <th>labels</th>\n",
       "      <th>emails</th>\n",
       "      <th>character_counts</th>\n",
       "      <th>puncts</th>\n",
       "    </tr>\n",
       "  </thead>\n",
       "  <tbody>\n",
       "    <tr>\n",
       "      <th>0</th>\n",
       "      <td>spam</td>\n",
       "      <td>.: naturally irresistible your corporate ident...</td>\n",
       "      <td>1478</td>\n",
       "      <td>137</td>\n",
       "    </tr>\n",
       "    <tr>\n",
       "      <th>1</th>\n",
       "      <td>spam</td>\n",
       "      <td>.: the stock trading gunslinger  fanny is merr...</td>\n",
       "      <td>592</td>\n",
       "      <td>2</td>\n",
       "    </tr>\n",
       "    <tr>\n",
       "      <th>2</th>\n",
       "      <td>spam</td>\n",
       "      <td>.: unbelievable new homes made easy  im wantin...</td>\n",
       "      <td>442</td>\n",
       "      <td>9</td>\n",
       "    </tr>\n",
       "    <tr>\n",
       "      <th>3</th>\n",
       "      <td>spam</td>\n",
       "      <td>.: 4 color printing special  request additiona...</td>\n",
       "      <td>494</td>\n",
       "      <td>26</td>\n",
       "    </tr>\n",
       "    <tr>\n",
       "      <th>4</th>\n",
       "      <td>spam</td>\n",
       "      <td>.: do not have money , get software cds from h...</td>\n",
       "      <td>229</td>\n",
       "      <td>14</td>\n",
       "    </tr>\n",
       "  </tbody>\n",
       "</table>\n",
       "</div>"
      ],
      "text/plain": [
       "  labels                                             emails  character_counts  \\\n",
       "0   spam  .: naturally irresistible your corporate ident...              1478   \n",
       "1   spam  .: the stock trading gunslinger  fanny is merr...               592   \n",
       "2   spam  .: unbelievable new homes made easy  im wantin...               442   \n",
       "3   spam  .: 4 color printing special  request additiona...               494   \n",
       "4   spam  .: do not have money , get software cds from h...               229   \n",
       "\n",
       "   puncts  \n",
       "0     137  \n",
       "1       2  \n",
       "2       9  \n",
       "3      26  \n",
       "4      14  "
      ]
     },
     "execution_count": 20,
     "metadata": {},
     "output_type": "execute_result"
    }
   ],
   "source": [
    "spam.head()"
   ]
  },
  {
   "cell_type": "code",
   "execution_count": 21,
   "metadata": {},
   "outputs": [
    {
     "data": {
      "text/plain": [
       "((4359, 4), (1368, 4))"
      ]
     },
     "execution_count": 21,
     "metadata": {},
     "output_type": "execute_result"
    }
   ],
   "source": [
    "ham.shape, spam.shape"
   ]
  },
  {
   "cell_type": "code",
   "execution_count": 22,
   "metadata": {},
   "outputs": [],
   "source": [
    "ham = ham.sample(spam.shape[0])"
   ]
  },
  {
   "cell_type": "code",
   "execution_count": 23,
   "metadata": {},
   "outputs": [
    {
     "data": {
      "text/plain": [
       "((1368, 4), (1368, 4))"
      ]
     },
     "execution_count": 23,
     "metadata": {},
     "output_type": "execute_result"
    }
   ],
   "source": [
    "ham.shape, spam.shape # Now ham and spam dataset are of same size"
   ]
  },
  {
   "cell_type": "code",
   "execution_count": 24,
   "metadata": {},
   "outputs": [],
   "source": [
    "new_data = ham.append(spam, ignore_index = True)"
   ]
  },
  {
   "cell_type": "code",
   "execution_count": 25,
   "metadata": {},
   "outputs": [
    {
     "data": {
      "text/html": [
       "<div>\n",
       "<style scoped>\n",
       "    .dataframe tbody tr th:only-of-type {\n",
       "        vertical-align: middle;\n",
       "    }\n",
       "\n",
       "    .dataframe tbody tr th {\n",
       "        vertical-align: top;\n",
       "    }\n",
       "\n",
       "    .dataframe thead th {\n",
       "        text-align: right;\n",
       "    }\n",
       "</style>\n",
       "<table border=\"1\" class=\"dataframe\">\n",
       "  <thead>\n",
       "    <tr style=\"text-align: right;\">\n",
       "      <th></th>\n",
       "      <th>labels</th>\n",
       "      <th>emails</th>\n",
       "      <th>character_counts</th>\n",
       "      <th>puncts</th>\n",
       "    </tr>\n",
       "  </thead>\n",
       "  <tbody>\n",
       "    <tr>\n",
       "      <th>0</th>\n",
       "      <td>ham</td>\n",
       "      <td>.: pac reminder  last month you received an em...</td>\n",
       "      <td>4524</td>\n",
       "      <td>120</td>\n",
       "    </tr>\n",
       "    <tr>\n",
       "      <th>1</th>\n",
       "      <td>ham</td>\n",
       "      <td>.: re :  thanks , please tell me if you need a...</td>\n",
       "      <td>3275</td>\n",
       "      <td>197</td>\n",
       "    </tr>\n",
       "    <tr>\n",
       "      <th>2</th>\n",
       "      <td>ham</td>\n",
       "      <td>.: re : time keeping  hi brad :  i am it for o...</td>\n",
       "      <td>758</td>\n",
       "      <td>45</td>\n",
       "    </tr>\n",
       "    <tr>\n",
       "      <th>3</th>\n",
       "      <td>ham</td>\n",
       "      <td>.: re : lsu seminar visit  dear vince ,  would...</td>\n",
       "      <td>1013</td>\n",
       "      <td>64</td>\n",
       "    </tr>\n",
       "    <tr>\n",
       "      <th>4</th>\n",
       "      <td>ham</td>\n",
       "      <td>.: re : fwd : australian energy 2000  dear vin...</td>\n",
       "      <td>2265</td>\n",
       "      <td>258</td>\n",
       "    </tr>\n",
       "  </tbody>\n",
       "</table>\n",
       "</div>"
      ],
      "text/plain": [
       "  labels                                             emails  character_counts  \\\n",
       "0    ham  .: pac reminder  last month you received an em...              4524   \n",
       "1    ham  .: re :  thanks , please tell me if you need a...              3275   \n",
       "2    ham  .: re : time keeping  hi brad :  i am it for o...               758   \n",
       "3    ham  .: re : lsu seminar visit  dear vince ,  would...              1013   \n",
       "4    ham  .: re : fwd : australian energy 2000  dear vin...              2265   \n",
       "\n",
       "   puncts  \n",
       "0     120  \n",
       "1     197  \n",
       "2      45  \n",
       "3      64  \n",
       "4     258  "
      ]
     },
     "execution_count": 25,
     "metadata": {},
     "output_type": "execute_result"
    }
   ],
   "source": [
    "new_data.head()"
   ]
  },
  {
   "cell_type": "code",
   "execution_count": 30,
   "metadata": {},
   "outputs": [
    {
     "data": {
      "text/html": [
       "<div>\n",
       "<style scoped>\n",
       "    .dataframe tbody tr th:only-of-type {\n",
       "        vertical-align: middle;\n",
       "    }\n",
       "\n",
       "    .dataframe tbody tr th {\n",
       "        vertical-align: top;\n",
       "    }\n",
       "\n",
       "    .dataframe thead th {\n",
       "        text-align: right;\n",
       "    }\n",
       "</style>\n",
       "<table border=\"1\" class=\"dataframe\">\n",
       "  <thead>\n",
       "    <tr style=\"text-align: right;\">\n",
       "      <th></th>\n",
       "      <th>labels</th>\n",
       "      <th>emails</th>\n",
       "      <th>character_counts</th>\n",
       "      <th>puncts</th>\n",
       "    </tr>\n",
       "  </thead>\n",
       "  <tbody>\n",
       "    <tr>\n",
       "      <th>4807</th>\n",
       "      <td>ham</td>\n",
       "      <td>.: pac reminder  last month you received an em...</td>\n",
       "      <td>4524</td>\n",
       "      <td>120</td>\n",
       "    </tr>\n",
       "    <tr>\n",
       "      <th>4134</th>\n",
       "      <td>ham</td>\n",
       "      <td>.: re :  thanks , please tell me if you need a...</td>\n",
       "      <td>3275</td>\n",
       "      <td>197</td>\n",
       "    </tr>\n",
       "    <tr>\n",
       "      <th>5388</th>\n",
       "      <td>ham</td>\n",
       "      <td>.: re : time keeping  hi brad :  i am it for o...</td>\n",
       "      <td>758</td>\n",
       "      <td>45</td>\n",
       "    </tr>\n",
       "    <tr>\n",
       "      <th>2722</th>\n",
       "      <td>ham</td>\n",
       "      <td>.: re : lsu seminar visit  dear vince ,  would...</td>\n",
       "      <td>1013</td>\n",
       "      <td>64</td>\n",
       "    </tr>\n",
       "    <tr>\n",
       "      <th>3496</th>\n",
       "      <td>ham</td>\n",
       "      <td>.: re : fwd : australian energy 2000  dear vin...</td>\n",
       "      <td>2265</td>\n",
       "      <td>258</td>\n",
       "    </tr>\n",
       "    <tr>\n",
       "      <th>1596</th>\n",
       "      <td>ham</td>\n",
       "      <td>.: re : var and credit meeting on wednesday , ...</td>\n",
       "      <td>464</td>\n",
       "      <td>17</td>\n",
       "    </tr>\n",
       "    <tr>\n",
       "      <th>5267</th>\n",
       "      <td>ham</td>\n",
       "      <td>.: charm conference call  please let me know w...</td>\n",
       "      <td>1026</td>\n",
       "      <td>87</td>\n",
       "    </tr>\n",
       "    <tr>\n",
       "      <th>4452</th>\n",
       "      <td>ham</td>\n",
       "      <td>.: re : loan documents  thanks for the kind wo...</td>\n",
       "      <td>719</td>\n",
       "      <td>50</td>\n",
       "    </tr>\n",
       "    <tr>\n",
       "      <th>2941</th>\n",
       "      <td>ham</td>\n",
       "      <td>.: it resources  guys , in response to the off...</td>\n",
       "      <td>621</td>\n",
       "      <td>14</td>\n",
       "    </tr>\n",
       "    <tr>\n",
       "      <th>3851</th>\n",
       "      <td>ham</td>\n",
       "      <td>.: elements of power ( 4 )  dear colleagues : ...</td>\n",
       "      <td>12142</td>\n",
       "      <td>402</td>\n",
       "    </tr>\n",
       "    <tr>\n",
       "      <th>4314</th>\n",
       "      <td>ham</td>\n",
       "      <td>.: re : backtesting for different percentiles ...</td>\n",
       "      <td>1650</td>\n",
       "      <td>82</td>\n",
       "    </tr>\n",
       "    <tr>\n",
       "      <th>3089</th>\n",
       "      <td>ham</td>\n",
       "      <td>.: re : energy derivatives  hi vince ,  thanks...</td>\n",
       "      <td>259</td>\n",
       "      <td>15</td>\n",
       "    </tr>\n",
       "    <tr>\n",
       "      <th>3226</th>\n",
       "      <td>ham</td>\n",
       "      <td>.: presentation on metals  - - - - - - - - - -...</td>\n",
       "      <td>1008</td>\n",
       "      <td>77</td>\n",
       "    </tr>\n",
       "    <tr>\n",
       "      <th>1884</th>\n",
       "      <td>ham</td>\n",
       "      <td>.: another bet  vince  i here you are running ...</td>\n",
       "      <td>262</td>\n",
       "      <td>4</td>\n",
       "    </tr>\n",
       "    <tr>\n",
       "      <th>3100</th>\n",
       "      <td>ham</td>\n",
       "      <td>.: wti - new eol product  please provide comme...</td>\n",
       "      <td>1217</td>\n",
       "      <td>42</td>\n",
       "    </tr>\n",
       "    <tr>\n",
       "      <th>2710</th>\n",
       "      <td>ham</td>\n",
       "      <td>.: stinson gibner &amp; hector campos  ken lay gav...</td>\n",
       "      <td>764</td>\n",
       "      <td>42</td>\n",
       "    </tr>\n",
       "    <tr>\n",
       "      <th>2304</th>\n",
       "      <td>ham</td>\n",
       "      <td>.: don ' t forget - coffee colloquium this mor...</td>\n",
       "      <td>1214</td>\n",
       "      <td>74</td>\n",
       "    </tr>\n",
       "    <tr>\n",
       "      <th>5132</th>\n",
       "      <td>ham</td>\n",
       "      <td>.: analyst candidate mitra mujica  if mitra mu...</td>\n",
       "      <td>1174</td>\n",
       "      <td>105</td>\n",
       "    </tr>\n",
       "    <tr>\n",
       "      <th>4685</th>\n",
       "      <td>ham</td>\n",
       "      <td>.: wharton tiger team agenda  friends ,  attac...</td>\n",
       "      <td>952</td>\n",
       "      <td>44</td>\n",
       "    </tr>\n",
       "    <tr>\n",
       "      <th>3548</th>\n",
       "      <td>ham</td>\n",
       "      <td>.: natural gas production  vince -  i spoke wi...</td>\n",
       "      <td>680</td>\n",
       "      <td>20</td>\n",
       "    </tr>\n",
       "    <tr>\n",
       "      <th>5357</th>\n",
       "      <td>ham</td>\n",
       "      <td>.: re : natural gas storage item  vince -  som...</td>\n",
       "      <td>1023</td>\n",
       "      <td>32</td>\n",
       "    </tr>\n",
       "    <tr>\n",
       "      <th>4726</th>\n",
       "      <td>ham</td>\n",
       "      <td>.: approval ( sent by nguyen griggs )  user re...</td>\n",
       "      <td>1465</td>\n",
       "      <td>142</td>\n",
       "    </tr>\n",
       "    <tr>\n",
       "      <th>4403</th>\n",
       "      <td>ham</td>\n",
       "      <td>.: re : confirmation of meeting  i ' ll probab...</td>\n",
       "      <td>4275</td>\n",
       "      <td>323</td>\n",
       "    </tr>\n",
       "    <tr>\n",
       "      <th>3357</th>\n",
       "      <td>ham</td>\n",
       "      <td>.: year end 2000 performance feedback  note : ...</td>\n",
       "      <td>2401</td>\n",
       "      <td>127</td>\n",
       "    </tr>\n",
       "    <tr>\n",
       "      <th>2138</th>\n",
       "      <td>ham</td>\n",
       "      <td>.: re : grades  thank you ! - pvc  at 09 : 19 ...</td>\n",
       "      <td>653</td>\n",
       "      <td>103</td>\n",
       "    </tr>\n",
       "    <tr>\n",
       "      <th>2407</th>\n",
       "      <td>ham</td>\n",
       "      <td>.: promotions  our promotions are listed below...</td>\n",
       "      <td>770</td>\n",
       "      <td>75</td>\n",
       "    </tr>\n",
       "    <tr>\n",
       "      <th>5265</th>\n",
       "      <td>ham</td>\n",
       "      <td>.: reply from charles at williams  vince :  th...</td>\n",
       "      <td>507</td>\n",
       "      <td>39</td>\n",
       "    </tr>\n",
       "    <tr>\n",
       "      <th>5617</th>\n",
       "      <td>ham</td>\n",
       "      <td>.: ees organizational announcement  - - - - - ...</td>\n",
       "      <td>1886</td>\n",
       "      <td>162</td>\n",
       "    </tr>\n",
       "    <tr>\n",
       "      <th>2129</th>\n",
       "      <td>ham</td>\n",
       "      <td>.: summer position  - - - - - - - - - - - - - ...</td>\n",
       "      <td>652</td>\n",
       "      <td>77</td>\n",
       "    </tr>\n",
       "    <tr>\n",
       "      <th>1817</th>\n",
       "      <td>ham</td>\n",
       "      <td>.: request submitted : access request for stew...</td>\n",
       "      <td>493</td>\n",
       "      <td>33</td>\n",
       "    </tr>\n",
       "    <tr>\n",
       "      <th>...</th>\n",
       "      <td>...</td>\n",
       "      <td>...</td>\n",
       "      <td>...</td>\n",
       "      <td>...</td>\n",
       "    </tr>\n",
       "    <tr>\n",
       "      <th>2181</th>\n",
       "      <td>ham</td>\n",
       "      <td>.: re : fw : energy book promotion  thanks .  ...</td>\n",
       "      <td>1405</td>\n",
       "      <td>109</td>\n",
       "    </tr>\n",
       "    <tr>\n",
       "      <th>1744</th>\n",
       "      <td>ham</td>\n",
       "      <td>.: visiting enron may 4 th  christie ,  fyi . ...</td>\n",
       "      <td>3329</td>\n",
       "      <td>246</td>\n",
       "    </tr>\n",
       "    <tr>\n",
       "      <th>5378</th>\n",
       "      <td>ham</td>\n",
       "      <td>.: re : seeking intelligent insight  please . ...</td>\n",
       "      <td>547</td>\n",
       "      <td>25</td>\n",
       "    </tr>\n",
       "    <tr>\n",
       "      <th>3349</th>\n",
       "      <td>ham</td>\n",
       "      <td>.: risk 2000 panel discussion  draft agenda at...</td>\n",
       "      <td>121</td>\n",
       "      <td>7</td>\n",
       "    </tr>\n",
       "    <tr>\n",
       "      <th>2423</th>\n",
       "      <td>ham</td>\n",
       "      <td>.: agenda for houston visit  dear vince and mi...</td>\n",
       "      <td>1038</td>\n",
       "      <td>51</td>\n",
       "    </tr>\n",
       "    <tr>\n",
       "      <th>4798</th>\n",
       "      <td>ham</td>\n",
       "      <td>.: wharton program for business journalists  h...</td>\n",
       "      <td>3920</td>\n",
       "      <td>207</td>\n",
       "    </tr>\n",
       "    <tr>\n",
       "      <th>3680</th>\n",
       "      <td>ham</td>\n",
       "      <td>.: interview with the research group  hi kathy...</td>\n",
       "      <td>2049</td>\n",
       "      <td>135</td>\n",
       "    </tr>\n",
       "    <tr>\n",
       "      <th>4951</th>\n",
       "      <td>ham</td>\n",
       "      <td>.: re : check  vince ,  ?  please find attache...</td>\n",
       "      <td>2556</td>\n",
       "      <td>266</td>\n",
       "    </tr>\n",
       "    <tr>\n",
       "      <th>1586</th>\n",
       "      <td>ham</td>\n",
       "      <td>.: re : carnegie interviews super friday  vinc...</td>\n",
       "      <td>2513</td>\n",
       "      <td>146</td>\n",
       "    </tr>\n",
       "    <tr>\n",
       "      <th>4558</th>\n",
       "      <td>ham</td>\n",
       "      <td>.: re : real time var  tanya ,  thank you for ...</td>\n",
       "      <td>1802</td>\n",
       "      <td>72</td>\n",
       "    </tr>\n",
       "    <tr>\n",
       "      <th>5082</th>\n",
       "      <td>ham</td>\n",
       "      <td>.: re : probation period - matthew williams  h...</td>\n",
       "      <td>785</td>\n",
       "      <td>24</td>\n",
       "    </tr>\n",
       "    <tr>\n",
       "      <th>2011</th>\n",
       "      <td>ham</td>\n",
       "      <td>.: re : dale nesbitt meeting tues  margaret , ...</td>\n",
       "      <td>2937</td>\n",
       "      <td>242</td>\n",
       "    </tr>\n",
       "    <tr>\n",
       "      <th>2754</th>\n",
       "      <td>ham</td>\n",
       "      <td>.: fwd : abstract  return - path :  from : vka...</td>\n",
       "      <td>1634</td>\n",
       "      <td>62</td>\n",
       "    </tr>\n",
       "    <tr>\n",
       "      <th>1405</th>\n",
       "      <td>ham</td>\n",
       "      <td>.: class proposal by yannis  hi vince ,  yanni...</td>\n",
       "      <td>2594</td>\n",
       "      <td>122</td>\n",
       "    </tr>\n",
       "    <tr>\n",
       "      <th>3913</th>\n",
       "      <td>ham</td>\n",
       "      <td>.: re : lng may 19 decision  john ,  yes . i h...</td>\n",
       "      <td>5227</td>\n",
       "      <td>179</td>\n",
       "    </tr>\n",
       "    <tr>\n",
       "      <th>3882</th>\n",
       "      <td>ham</td>\n",
       "      <td>.: interview with enron corp . research group ...</td>\n",
       "      <td>933</td>\n",
       "      <td>18</td>\n",
       "    </tr>\n",
       "    <tr>\n",
       "      <th>3885</th>\n",
       "      <td>ham</td>\n",
       "      <td>.: re : thanks !  karin ,  i talked to mike ro...</td>\n",
       "      <td>4862</td>\n",
       "      <td>315</td>\n",
       "    </tr>\n",
       "    <tr>\n",
       "      <th>2701</th>\n",
       "      <td>ham</td>\n",
       "      <td>.: wharton event - junel 0 - insead  vince ,  ...</td>\n",
       "      <td>4687</td>\n",
       "      <td>311</td>\n",
       "    </tr>\n",
       "    <tr>\n",
       "      <th>2716</th>\n",
       "      <td>ham</td>\n",
       "      <td>.: mg metals var preliminary modella - . to mi...</td>\n",
       "      <td>1715</td>\n",
       "      <td>73</td>\n",
       "    </tr>\n",
       "    <tr>\n",
       "      <th>3384</th>\n",
       "      <td>ham</td>\n",
       "      <td>.: re : forecast rates !  vince ,  we responde...</td>\n",
       "      <td>1012</td>\n",
       "      <td>50</td>\n",
       "    </tr>\n",
       "    <tr>\n",
       "      <th>3116</th>\n",
       "      <td>ham</td>\n",
       "      <td>.: enron , case study at nordic business schoo...</td>\n",
       "      <td>2505</td>\n",
       "      <td>134</td>\n",
       "    </tr>\n",
       "    <tr>\n",
       "      <th>5726</th>\n",
       "      <td>ham</td>\n",
       "      <td>.: news : aurora 5 . 2 update  aurora version ...</td>\n",
       "      <td>2325</td>\n",
       "      <td>89</td>\n",
       "    </tr>\n",
       "    <tr>\n",
       "      <th>4904</th>\n",
       "      <td>ham</td>\n",
       "      <td>.: re : stinson gibner  paula :  he should acc...</td>\n",
       "      <td>866</td>\n",
       "      <td>38</td>\n",
       "    </tr>\n",
       "    <tr>\n",
       "      <th>2420</th>\n",
       "      <td>ham</td>\n",
       "      <td>.: re : research sign off  steve ,  sign - off...</td>\n",
       "      <td>1825</td>\n",
       "      <td>61</td>\n",
       "    </tr>\n",
       "    <tr>\n",
       "      <th>5017</th>\n",
       "      <td>ham</td>\n",
       "      <td>.: december 15 th super saturday friday interv...</td>\n",
       "      <td>183</td>\n",
       "      <td>4</td>\n",
       "    </tr>\n",
       "    <tr>\n",
       "      <th>1632</th>\n",
       "      <td>ham</td>\n",
       "      <td>.: floating lng terminal  folks ,  as a follow...</td>\n",
       "      <td>963</td>\n",
       "      <td>21</td>\n",
       "    </tr>\n",
       "    <tr>\n",
       "      <th>2208</th>\n",
       "      <td>ham</td>\n",
       "      <td>.: new pc  shirley ,  ok .  vince  - - - - - -...</td>\n",
       "      <td>810</td>\n",
       "      <td>85</td>\n",
       "    </tr>\n",
       "    <tr>\n",
       "      <th>4002</th>\n",
       "      <td>ham</td>\n",
       "      <td>.: re : b 2 b at enron  tom ,  greg ' s phone ...</td>\n",
       "      <td>8207</td>\n",
       "      <td>582</td>\n",
       "    </tr>\n",
       "    <tr>\n",
       "      <th>2341</th>\n",
       "      <td>ham</td>\n",
       "      <td>.: re : book review  great job vince . i know ...</td>\n",
       "      <td>376</td>\n",
       "      <td>14</td>\n",
       "    </tr>\n",
       "    <tr>\n",
       "      <th>2627</th>\n",
       "      <td>ham</td>\n",
       "      <td>.: eol  dan ,  i am forwarding you the summary...</td>\n",
       "      <td>1235</td>\n",
       "      <td>97</td>\n",
       "    </tr>\n",
       "  </tbody>\n",
       "</table>\n",
       "<p>1368 rows × 4 columns</p>\n",
       "</div>"
      ],
      "text/plain": [
       "     labels                                             emails  \\\n",
       "4807    ham  .: pac reminder  last month you received an em...   \n",
       "4134    ham  .: re :  thanks , please tell me if you need a...   \n",
       "5388    ham  .: re : time keeping  hi brad :  i am it for o...   \n",
       "2722    ham  .: re : lsu seminar visit  dear vince ,  would...   \n",
       "3496    ham  .: re : fwd : australian energy 2000  dear vin...   \n",
       "1596    ham  .: re : var and credit meeting on wednesday , ...   \n",
       "5267    ham  .: charm conference call  please let me know w...   \n",
       "4452    ham  .: re : loan documents  thanks for the kind wo...   \n",
       "2941    ham  .: it resources  guys , in response to the off...   \n",
       "3851    ham  .: elements of power ( 4 )  dear colleagues : ...   \n",
       "4314    ham  .: re : backtesting for different percentiles ...   \n",
       "3089    ham  .: re : energy derivatives  hi vince ,  thanks...   \n",
       "3226    ham  .: presentation on metals  - - - - - - - - - -...   \n",
       "1884    ham  .: another bet  vince  i here you are running ...   \n",
       "3100    ham  .: wti - new eol product  please provide comme...   \n",
       "2710    ham  .: stinson gibner & hector campos  ken lay gav...   \n",
       "2304    ham  .: don ' t forget - coffee colloquium this mor...   \n",
       "5132    ham  .: analyst candidate mitra mujica  if mitra mu...   \n",
       "4685    ham  .: wharton tiger team agenda  friends ,  attac...   \n",
       "3548    ham  .: natural gas production  vince -  i spoke wi...   \n",
       "5357    ham  .: re : natural gas storage item  vince -  som...   \n",
       "4726    ham  .: approval ( sent by nguyen griggs )  user re...   \n",
       "4403    ham  .: re : confirmation of meeting  i ' ll probab...   \n",
       "3357    ham  .: year end 2000 performance feedback  note : ...   \n",
       "2138    ham  .: re : grades  thank you ! - pvc  at 09 : 19 ...   \n",
       "2407    ham  .: promotions  our promotions are listed below...   \n",
       "5265    ham  .: reply from charles at williams  vince :  th...   \n",
       "5617    ham  .: ees organizational announcement  - - - - - ...   \n",
       "2129    ham  .: summer position  - - - - - - - - - - - - - ...   \n",
       "1817    ham  .: request submitted : access request for stew...   \n",
       "...     ...                                                ...   \n",
       "2181    ham  .: re : fw : energy book promotion  thanks .  ...   \n",
       "1744    ham  .: visiting enron may 4 th  christie ,  fyi . ...   \n",
       "5378    ham  .: re : seeking intelligent insight  please . ...   \n",
       "3349    ham  .: risk 2000 panel discussion  draft agenda at...   \n",
       "2423    ham  .: agenda for houston visit  dear vince and mi...   \n",
       "4798    ham  .: wharton program for business journalists  h...   \n",
       "3680    ham  .: interview with the research group  hi kathy...   \n",
       "4951    ham  .: re : check  vince ,  ?  please find attache...   \n",
       "1586    ham  .: re : carnegie interviews super friday  vinc...   \n",
       "4558    ham  .: re : real time var  tanya ,  thank you for ...   \n",
       "5082    ham  .: re : probation period - matthew williams  h...   \n",
       "2011    ham  .: re : dale nesbitt meeting tues  margaret , ...   \n",
       "2754    ham  .: fwd : abstract  return - path :  from : vka...   \n",
       "1405    ham  .: class proposal by yannis  hi vince ,  yanni...   \n",
       "3913    ham  .: re : lng may 19 decision  john ,  yes . i h...   \n",
       "3882    ham  .: interview with enron corp . research group ...   \n",
       "3885    ham  .: re : thanks !  karin ,  i talked to mike ro...   \n",
       "2701    ham  .: wharton event - junel 0 - insead  vince ,  ...   \n",
       "2716    ham  .: mg metals var preliminary modella - . to mi...   \n",
       "3384    ham  .: re : forecast rates !  vince ,  we responde...   \n",
       "3116    ham  .: enron , case study at nordic business schoo...   \n",
       "5726    ham  .: news : aurora 5 . 2 update  aurora version ...   \n",
       "4904    ham  .: re : stinson gibner  paula :  he should acc...   \n",
       "2420    ham  .: re : research sign off  steve ,  sign - off...   \n",
       "5017    ham  .: december 15 th super saturday friday interv...   \n",
       "1632    ham  .: floating lng terminal  folks ,  as a follow...   \n",
       "2208    ham  .: new pc  shirley ,  ok .  vince  - - - - - -...   \n",
       "4002    ham  .: re : b 2 b at enron  tom ,  greg ' s phone ...   \n",
       "2341    ham  .: re : book review  great job vince . i know ...   \n",
       "2627    ham  .: eol  dan ,  i am forwarding you the summary...   \n",
       "\n",
       "      character_counts  puncts  \n",
       "4807              4524     120  \n",
       "4134              3275     197  \n",
       "5388               758      45  \n",
       "2722              1013      64  \n",
       "3496              2265     258  \n",
       "1596               464      17  \n",
       "5267              1026      87  \n",
       "4452               719      50  \n",
       "2941               621      14  \n",
       "3851             12142     402  \n",
       "4314              1650      82  \n",
       "3089               259      15  \n",
       "3226              1008      77  \n",
       "1884               262       4  \n",
       "3100              1217      42  \n",
       "2710               764      42  \n",
       "2304              1214      74  \n",
       "5132              1174     105  \n",
       "4685               952      44  \n",
       "3548               680      20  \n",
       "5357              1023      32  \n",
       "4726              1465     142  \n",
       "4403              4275     323  \n",
       "3357              2401     127  \n",
       "2138               653     103  \n",
       "2407               770      75  \n",
       "5265               507      39  \n",
       "5617              1886     162  \n",
       "2129               652      77  \n",
       "1817               493      33  \n",
       "...                ...     ...  \n",
       "2181              1405     109  \n",
       "1744              3329     246  \n",
       "5378               547      25  \n",
       "3349               121       7  \n",
       "2423              1038      51  \n",
       "4798              3920     207  \n",
       "3680              2049     135  \n",
       "4951              2556     266  \n",
       "1586              2513     146  \n",
       "4558              1802      72  \n",
       "5082               785      24  \n",
       "2011              2937     242  \n",
       "2754              1634      62  \n",
       "1405              2594     122  \n",
       "3913              5227     179  \n",
       "3882               933      18  \n",
       "3885              4862     315  \n",
       "2701              4687     311  \n",
       "2716              1715      73  \n",
       "3384              1012      50  \n",
       "3116              2505     134  \n",
       "5726              2325      89  \n",
       "4904               866      38  \n",
       "2420              1825      61  \n",
       "5017               183       4  \n",
       "1632               963      21  \n",
       "2208               810      85  \n",
       "4002              8207     582  \n",
       "2341               376      14  \n",
       "2627              1235      97  \n",
       "\n",
       "[1368 rows x 4 columns]"
      ]
     },
     "execution_count": 30,
     "metadata": {},
     "output_type": "execute_result"
    }
   ],
   "source": [
    "ham"
   ]
  },
  {
   "cell_type": "markdown",
   "metadata": {},
   "source": [
    "### Exploritary data analysis on the dataset"
   ]
  },
  {
   "cell_type": "code",
   "execution_count": 34,
   "metadata": {},
   "outputs": [
    {
     "data": {
      "image/png": "[encoded data removed]",
      "text/plain": [
       "<Figure size 432x288 with 1 Axes>"
      ]
     },
     "metadata": {
      "needs_background": "light"
     },
     "output_type": "display_data"
    }
   ],
   "source": [
    "# Plotting character counts of ham and spam emails\n",
    "plt.hist(data[data[\"labels\"]== \"ham\"][\"character_counts\"], bins = 1000, alpha = 0.7)\n",
    "plt.hist(data[data[\"labels\"]== \"spam\"][\"character_counts\"], bins = 1000, alpha = 0.7)\n",
    "plt.show()"
   ]
  },
  {
   "cell_type": "markdown",
   "metadata": {},
   "source": [
    "- The character counts of ham and spam emails are almost similar. No conclusion can be drawn"
   ]
  },
  {
   "cell_type": "code",
   "execution_count": 36,
   "metadata": {},
   "outputs": [
    {
     "data": {
      "image/png": "[encoded data removed]",
      "text/plain": [
       "<Figure size 432x288 with 1 Axes>"
      ]
     },
     "metadata": {
      "needs_background": "light"
     },
     "output_type": "display_data"
    }
   ],
   "source": [
    "# Plotting punctuation counts of ham and spam emails\n",
    "\n",
    "plt.hist(data[data[\"labels\"]== \"ham\"][\"puncts\"], bins = 100, alpha = 0.7)\n",
    "plt.hist(data[data[\"labels\"]== \"spam\"][\"puncts\"], bins = 100, alpha = 0.7)\n",
    "plt.show()"
   ]
  },
  {
   "cell_type": "markdown",
   "metadata": {},
   "source": [
    "- The punctuation counts of ham and spam emails are almost similar. No conclusion can be drawn"
   ]
  },
  {
   "cell_type": "markdown",
   "metadata": {},
   "source": [
    "### Data Preparation"
   ]
  },
  {
   "cell_type": "code",
   "execution_count": 38,
   "metadata": {},
   "outputs": [],
   "source": [
    "from sklearn.model_selection import train_test_split\n",
    "from sklearn.ensemble import RandomForestClassifier\n",
    "from sklearn.svm import SVC\n",
    "from sklearn.metrics import confusion_matrix, accuracy_score, classification_report\n",
    "from sklearn.pipeline import Pipeline"
   ]
  },
  {
   "cell_type": "code",
   "execution_count": 39,
   "metadata": {},
   "outputs": [],
   "source": [
    "from sklearn.feature_extraction.text import TfidfVectorizer"
   ]
  },
  {
   "cell_type": "code",
   "execution_count": 40,
   "metadata": {},
   "outputs": [
    {
     "data": {
      "text/html": [
       "<div>\n",
       "<style scoped>\n",
       "    .dataframe tbody tr th:only-of-type {\n",
       "        vertical-align: middle;\n",
       "    }\n",
       "\n",
       "    .dataframe tbody tr th {\n",
       "        vertical-align: top;\n",
       "    }\n",
       "\n",
       "    .dataframe thead th {\n",
       "        text-align: right;\n",
       "    }\n",
       "</style>\n",
       "<table border=\"1\" class=\"dataframe\">\n",
       "  <thead>\n",
       "    <tr style=\"text-align: right;\">\n",
       "      <th></th>\n",
       "      <th>labels</th>\n",
       "      <th>emails</th>\n",
       "      <th>character_counts</th>\n",
       "      <th>puncts</th>\n",
       "    </tr>\n",
       "  </thead>\n",
       "  <tbody>\n",
       "    <tr>\n",
       "      <th>0</th>\n",
       "      <td>ham</td>\n",
       "      <td>.: pac reminder  last month you received an em...</td>\n",
       "      <td>4524</td>\n",
       "      <td>120</td>\n",
       "    </tr>\n",
       "    <tr>\n",
       "      <th>1</th>\n",
       "      <td>ham</td>\n",
       "      <td>.: re :  thanks , please tell me if you need a...</td>\n",
       "      <td>3275</td>\n",
       "      <td>197</td>\n",
       "    </tr>\n",
       "    <tr>\n",
       "      <th>2</th>\n",
       "      <td>ham</td>\n",
       "      <td>.: re : time keeping  hi brad :  i am it for o...</td>\n",
       "      <td>758</td>\n",
       "      <td>45</td>\n",
       "    </tr>\n",
       "    <tr>\n",
       "      <th>3</th>\n",
       "      <td>ham</td>\n",
       "      <td>.: re : lsu seminar visit  dear vince ,  would...</td>\n",
       "      <td>1013</td>\n",
       "      <td>64</td>\n",
       "    </tr>\n",
       "    <tr>\n",
       "      <th>4</th>\n",
       "      <td>ham</td>\n",
       "      <td>.: re : fwd : australian energy 2000  dear vin...</td>\n",
       "      <td>2265</td>\n",
       "      <td>258</td>\n",
       "    </tr>\n",
       "  </tbody>\n",
       "</table>\n",
       "</div>"
      ],
      "text/plain": [
       "  labels                                             emails  character_counts  \\\n",
       "0    ham  .: pac reminder  last month you received an em...              4524   \n",
       "1    ham  .: re :  thanks , please tell me if you need a...              3275   \n",
       "2    ham  .: re : time keeping  hi brad :  i am it for o...               758   \n",
       "3    ham  .: re : lsu seminar visit  dear vince ,  would...              1013   \n",
       "4    ham  .: re : fwd : australian energy 2000  dear vin...              2265   \n",
       "\n",
       "   puncts  \n",
       "0     120  \n",
       "1     197  \n",
       "2      45  \n",
       "3      64  \n",
       "4     258  "
      ]
     },
     "execution_count": 40,
     "metadata": {},
     "output_type": "execute_result"
    }
   ],
   "source": [
    "new_data.head()"
   ]
  },
  {
   "cell_type": "code",
   "execution_count": 49,
   "metadata": {},
   "outputs": [],
   "source": [
    "X_train, X_test, y_train, y_test = train_test_split(new_data[\"emails\"], new_data[\"labels\"], test_size = 0.2, random_state = 0, shuffle = True, stratify = new_data[\"labels\"])"
   ]
  },
  {
   "cell_type": "markdown",
   "metadata": {},
   "source": [
    "- spam dataset has been appended over ham dataset. Hence shuffle is used to get both spam emails and ham emails for training.\n",
    "- Stratify makes sure that spam and ham emails are split in 30-70 train test split."
   ]
  },
  {
   "cell_type": "code",
   "execution_count": null,
   "metadata": {},
   "outputs": [],
   "source": []
  },
  {
   "cell_type": "markdown",
   "metadata": {},
   "source": [
    "### Bag of words creation`"
   ]
  },
  {
   "cell_type": "code",
   "execution_count": 43,
   "metadata": {},
   "outputs": [],
   "source": [
    "vectorizer = TfidfVectorizer()"
   ]
  },
  {
   "cell_type": "code",
   "execution_count": 44,
   "metadata": {},
   "outputs": [],
   "source": [
    "X_train = vectorizer.fit_transform(X_train)"
   ]
  },
  {
   "cell_type": "code",
   "execution_count": 45,
   "metadata": {},
   "outputs": [
    {
     "data": {
      "text/plain": [
       "(2188, 25367)"
      ]
     },
     "execution_count": 45,
     "metadata": {},
     "output_type": "execute_result"
    }
   ],
   "source": [
    "X_train.shape"
   ]
  },
  {
   "cell_type": "markdown",
   "metadata": {},
   "source": [
    "- This means that the vector has 25367 unique words which form the columns\n",
    "- There are 2188 emails in training dataset"
   ]
  },
  {
   "cell_type": "code",
   "execution_count": null,
   "metadata": {},
   "outputs": [],
   "source": []
  },
  {
   "cell_type": "markdown",
   "metadata": {},
   "source": [
    "### Pipeline and Random forest classifier"
   ]
  },
  {
   "cell_type": "markdown",
   "metadata": {},
   "source": [
    "- There are alot of repeated process for training and testing dataset seperately. Hence we make use of pipeline.\n",
    "- **Pipeline** is a sequence of operations that will be executed one after another"
   ]
  },
  {
   "cell_type": "code",
   "execution_count": 47,
   "metadata": {},
   "outputs": [],
   "source": [
    "clf = Pipeline([(\"tfidf\", TfidfVectorizer()), (\"clf\", RandomForestClassifier(n_estimators = 100, n_jobs = -1))])"
   ]
  },
  {
   "cell_type": "code",
   "execution_count": 50,
   "metadata": {},
   "outputs": [
    {
     "data": {
      "text/plain": [
       "Pipeline(memory=None,\n",
       "     steps=[('tfidf', TfidfVectorizer(analyzer='word', binary=False, decode_error='strict',\n",
       "        dtype=<class 'numpy.float64'>, encoding='utf-8', input='content',\n",
       "        lowercase=True, max_df=1.0, max_features=None, min_df=1,\n",
       "        ngram_range=(1, 1), norm='l2', preprocessor=None, smooth_idf=True,..._jobs=-1,\n",
       "            oob_score=False, random_state=None, verbose=0,\n",
       "            warm_start=False))])"
      ]
     },
     "execution_count": 50,
     "metadata": {},
     "output_type": "execute_result"
    }
   ],
   "source": [
    "clf.fit(X_train, y_train)"
   ]
  },
  {
   "cell_type": "markdown",
   "metadata": {},
   "source": [
    "- Pipeline saves alot of time. We dont have to do tfidf vectorization and Randomforest classification again and again for X_train, X_test, y_train and y_test. We just have to pass it through pipeline"
   ]
  },
  {
   "cell_type": "code",
   "execution_count": 51,
   "metadata": {},
   "outputs": [],
   "source": [
    "y_pred = clf.predict(X_test)"
   ]
  },
  {
   "cell_type": "code",
   "execution_count": 52,
   "metadata": {},
   "outputs": [
    {
     "data": {
      "text/plain": [
       "array([[264,  10],\n",
       "       [  1, 273]], dtype=int64)"
      ]
     },
     "execution_count": 52,
     "metadata": {},
     "output_type": "execute_result"
    }
   ],
   "source": [
    "confusion_matrix(y_test, y_pred)"
   ]
  },
  {
   "cell_type": "code",
   "execution_count": 53,
   "metadata": {},
   "outputs": [
    {
     "name": "stdout",
     "output_type": "stream",
     "text": [
      "              precision    recall  f1-score   support\n",
      "\n",
      "         ham       1.00      0.96      0.98       274\n",
      "        spam       0.96      1.00      0.98       274\n",
      "\n",
      "   micro avg       0.98      0.98      0.98       548\n",
      "   macro avg       0.98      0.98      0.98       548\n",
      "weighted avg       0.98      0.98      0.98       548\n",
      "\n"
     ]
    }
   ],
   "source": [
    "print(classification_report(y_test, y_pred))"
   ]
  },
  {
   "cell_type": "code",
   "execution_count": 54,
   "metadata": {},
   "outputs": [
    {
     "data": {
      "text/plain": [
       "0.9799270072992701"
      ]
     },
     "execution_count": 54,
     "metadata": {},
     "output_type": "execute_result"
    }
   ],
   "source": [
    "accuracy_score(y_test, y_pred)"
   ]
  },
  {
   "cell_type": "code",
   "execution_count": null,
   "metadata": {},
   "outputs": [],
   "source": []
  },
  {
   "cell_type": "markdown",
   "metadata": {},
   "source": [
    "### SVM"
   ]
  },
  {
   "cell_type": "code",
   "execution_count": 72,
   "metadata": {},
   "outputs": [],
   "source": [
    "clf = Pipeline([(\"tfidf\", TfidfVectorizer()), (\"clf\", SVC(C=2500, gamma = \"auto\"))])"
   ]
  },
  {
   "cell_type": "code",
   "execution_count": 73,
   "metadata": {},
   "outputs": [
    {
     "data": {
      "text/plain": [
       "Pipeline(memory=None,\n",
       "     steps=[('tfidf', TfidfVectorizer(analyzer='word', binary=False, decode_error='strict',\n",
       "        dtype=<class 'numpy.float64'>, encoding='utf-8', input='content',\n",
       "        lowercase=True, max_df=1.0, max_features=None, min_df=1,\n",
       "        ngram_range=(1, 1), norm='l2', preprocessor=None, smooth_idf=True,...,\n",
       "  max_iter=-1, probability=False, random_state=None, shrinking=True,\n",
       "  tol=0.001, verbose=False))])"
      ]
     },
     "execution_count": 73,
     "metadata": {},
     "output_type": "execute_result"
    }
   ],
   "source": [
    "clf.fit(X_train, y_train)"
   ]
  },
  {
   "cell_type": "code",
   "execution_count": 74,
   "metadata": {},
   "outputs": [],
   "source": [
    "y_pred = clf.predict(X_test)"
   ]
  },
  {
   "cell_type": "code",
   "execution_count": 75,
   "metadata": {},
   "outputs": [
    {
     "data": {
      "text/plain": [
       "array([[264,  10],\n",
       "       [  0, 274]], dtype=int64)"
      ]
     },
     "execution_count": 75,
     "metadata": {},
     "output_type": "execute_result"
    }
   ],
   "source": [
    "confusion_matrix(y_test, y_pred)"
   ]
  },
  {
   "cell_type": "code",
   "execution_count": 76,
   "metadata": {},
   "outputs": [
    {
     "name": "stdout",
     "output_type": "stream",
     "text": [
      "              precision    recall  f1-score   support\n",
      "\n",
      "         ham       1.00      0.96      0.98       274\n",
      "        spam       0.96      1.00      0.98       274\n",
      "\n",
      "   micro avg       0.98      0.98      0.98       548\n",
      "   macro avg       0.98      0.98      0.98       548\n",
      "weighted avg       0.98      0.98      0.98       548\n",
      "\n"
     ]
    }
   ],
   "source": [
    "print(classification_report(y_test, y_pred))"
   ]
  },
  {
   "cell_type": "code",
   "execution_count": 77,
   "metadata": {},
   "outputs": [
    {
     "data": {
      "text/plain": [
       "0.9817518248175182"
      ]
     },
     "execution_count": 77,
     "metadata": {},
     "output_type": "execute_result"
    }
   ],
   "source": [
    "accuracy_score(y_test, y_pred)"
   ]
  },
  {
   "cell_type": "code",
   "execution_count": null,
   "metadata": {},
   "outputs": [],
   "source": []
  }
 ],
 "metadata": {
  "kernelspec": {
   "display_name": "Python 3",
   "language": "python",
   "name": "python3"
  },
  "language_info": {
   "codemirror_mode": {
    "name": "ipython",
    "version": 3
   },
   "file_extension": ".py",
   "mimetype": "text/x-python",
   "name": "python",
   "nbconvert_exporter": "python",
   "pygments_lexer": "ipython3",
   "version": "3.7.3"
  }
 },
 "nbformat": 4,
 "nbformat_minor": 2
}
